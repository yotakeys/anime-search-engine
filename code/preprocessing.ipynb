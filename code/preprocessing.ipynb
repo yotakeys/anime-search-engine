{
 "cells": [
  {
   "cell_type": "code",
   "execution_count": 1,
   "metadata": {},
   "outputs": [],
   "source": [
    "import pandas as pd"
   ]
  },
  {
   "cell_type": "code",
   "execution_count": 2,
   "metadata": {},
   "outputs": [],
   "source": [
    "anime_data = pd.read_csv('../dataset/raw/animes.csv')\n",
    "review_data = pd.read_csv('../dataset/raw/reviews.csv')"
   ]
  },
  {
   "cell_type": "code",
   "execution_count": 3,
   "metadata": {},
   "outputs": [],
   "source": [
    "selected_reviews = review_data[['anime_uid', 'text']].groupby(by=['anime_uid']).count().sort_values('text', ascending=False)\n",
    "selected_reviews = selected_reviews[selected_reviews.text > 15].reset_index()"
   ]
  },
  {
   "cell_type": "code",
   "execution_count": 4,
   "metadata": {},
   "outputs": [
    {
     "data": {
      "text/html": [
       "<div>\n",
       "<style scoped>\n",
       "    .dataframe tbody tr th:only-of-type {\n",
       "        vertical-align: middle;\n",
       "    }\n",
       "\n",
       "    .dataframe tbody tr th {\n",
       "        vertical-align: top;\n",
       "    }\n",
       "\n",
       "    .dataframe thead th {\n",
       "        text-align: right;\n",
       "    }\n",
       "</style>\n",
       "<table border=\"1\" class=\"dataframe\">\n",
       "  <thead>\n",
       "    <tr style=\"text-align: right;\">\n",
       "      <th></th>\n",
       "      <th>anime_uid</th>\n",
       "      <th>text</th>\n",
       "    </tr>\n",
       "  </thead>\n",
       "  <tbody>\n",
       "    <tr>\n",
       "      <th>0</th>\n",
       "      <td>1535</td>\n",
       "      <td>1708</td>\n",
       "    </tr>\n",
       "    <tr>\n",
       "      <th>1</th>\n",
       "      <td>9253</td>\n",
       "      <td>1558</td>\n",
       "    </tr>\n",
       "    <tr>\n",
       "      <th>2</th>\n",
       "      <td>32281</td>\n",
       "      <td>1436</td>\n",
       "    </tr>\n",
       "    <tr>\n",
       "      <th>3</th>\n",
       "      <td>11757</td>\n",
       "      <td>1292</td>\n",
       "    </tr>\n",
       "    <tr>\n",
       "      <th>4</th>\n",
       "      <td>5114</td>\n",
       "      <td>1274</td>\n",
       "    </tr>\n",
       "    <tr>\n",
       "      <th>...</th>\n",
       "      <td>...</td>\n",
       "      <td>...</td>\n",
       "    </tr>\n",
       "    <tr>\n",
       "      <th>1895</th>\n",
       "      <td>12191</td>\n",
       "      <td>16</td>\n",
       "    </tr>\n",
       "    <tr>\n",
       "      <th>1896</th>\n",
       "      <td>31147</td>\n",
       "      <td>16</td>\n",
       "    </tr>\n",
       "    <tr>\n",
       "      <th>1897</th>\n",
       "      <td>2238</td>\n",
       "      <td>16</td>\n",
       "    </tr>\n",
       "    <tr>\n",
       "      <th>1898</th>\n",
       "      <td>3091</td>\n",
       "      <td>16</td>\n",
       "    </tr>\n",
       "    <tr>\n",
       "      <th>1899</th>\n",
       "      <td>3229</td>\n",
       "      <td>16</td>\n",
       "    </tr>\n",
       "  </tbody>\n",
       "</table>\n",
       "<p>1900 rows × 2 columns</p>\n",
       "</div>"
      ],
      "text/plain": [
       "      anime_uid  text\n",
       "0          1535  1708\n",
       "1          9253  1558\n",
       "2         32281  1436\n",
       "3         11757  1292\n",
       "4          5114  1274\n",
       "...         ...   ...\n",
       "1895      12191    16\n",
       "1896      31147    16\n",
       "1897       2238    16\n",
       "1898       3091    16\n",
       "1899       3229    16\n",
       "\n",
       "[1900 rows x 2 columns]"
      ]
     },
     "execution_count": 4,
     "metadata": {},
     "output_type": "execute_result"
    }
   ],
   "source": [
    "selected_reviews"
   ]
  },
  {
   "cell_type": "code",
   "execution_count": 5,
   "metadata": {},
   "outputs": [],
   "source": [
    "reviews_joined = review_data[['anime_uid', 'text']][review_data['anime_uid'].isin(selected_reviews['anime_uid'])]\n",
    "reviews_joined = reviews_joined.groupby(by=['anime_uid']).sum().reset_index()"
   ]
  },
  {
   "cell_type": "code",
   "execution_count": 6,
   "metadata": {},
   "outputs": [],
   "source": [
    "anime_data = anime_data.drop_duplicates(subset=['uid'])\n",
    "reviews_joined.rename(columns={'anime_uid' : 'uid', 'text' : 'review'}, inplace=True)\n",
    "animes_reviews = pd.merge(anime_data, reviews_joined, how='right', on=['uid']).drop_duplicates()"
   ]
  },
  {
   "cell_type": "code",
   "execution_count": 7,
   "metadata": {},
   "outputs": [],
   "source": [
    "animes_reviews = animes_reviews.drop(['members', 'popularity', 'ranked', 'img_url', 'link'],axis=1)\n",
    "animes_reviews = animes_reviews.dropna()"
   ]
  },
  {
   "cell_type": "code",
   "execution_count": 8,
   "metadata": {},
   "outputs": [],
   "source": [
    "def preProcessReview(row):\n",
    "    res = str(row['review'])\n",
    "    \n",
    "    while '\\n' in res or '\\r' in res or \"\\'\" in res or '  ' in res:\n",
    "        res = res.replace('\\n','')\n",
    "        res = res.replace('\\r','')\n",
    "        res = res.replace(\"\\'\",'')\n",
    "        res = res.replace('  ',' ')\n",
    "    \n",
    "    return res\n",
    "\n",
    "def preProcessScore(row):\n",
    "    res = str(row['score'])\n",
    "    \n",
    "    return 'Score ' + res\n",
    "\n",
    "def preProcessEpisodes(row):\n",
    "    res = str(row['episodes'])\n",
    "    res = res.replace(\".0\",'')\n",
    "    \n",
    "    return 'with ' + res + ' Episodes'\n",
    "\n",
    "def preProcessGenre(row):\n",
    "    res = row['genre']\n",
    "    res = res.replace(\"'\",'')\n",
    "    res = res.replace('[','')\n",
    "    res = res.replace(']','')\n",
    "    \n",
    "    return 'Genre ' + res\n",
    "\n",
    "def preProcessSynopsis(row):\n",
    "    res = str(row['synopsis'])\n",
    "    while '\\n' in res or '\\r' in res or \"\\'\" in res or '  ' in res:\n",
    "        res = res.replace('\\n','')\n",
    "        res = res.replace('\\r','')\n",
    "        res = res.replace(\"\\'\",'')\n",
    "        res = res.replace('  ',' ')\n",
    "        \n",
    "    return 'Synopsis, ' + res\n",
    "\n",
    "animes_reviews['synopsis'] = animes_reviews.apply(preProcessSynopsis, axis=1)\n",
    "animes_reviews['genre'] = animes_reviews.apply(preProcessGenre, axis=1)\n",
    "animes_reviews['episodes'] = animes_reviews.apply(preProcessEpisodes, axis=1)\n",
    "animes_reviews['score'] = animes_reviews.apply(preProcessScore, axis=1)\n",
    "animes_reviews['review'] = animes_reviews.apply(preProcessReview, axis=1)"
   ]
  },
  {
   "cell_type": "code",
   "execution_count": 9,
   "metadata": {},
   "outputs": [],
   "source": [
    "animes_reviews['text'] = animes_reviews[animes_reviews.columns[1:]].apply(\n",
    "    lambda x: ', '.join(x.dropna().astype(str)),\n",
    "    axis=1\n",
    ")"
   ]
  },
  {
   "cell_type": "code",
   "execution_count": 10,
   "metadata": {},
   "outputs": [],
   "source": [
    "def sliceString(row):\n",
    "    res = str(row['text'])\n",
    "    \n",
    "    return res[:5000]\n",
    "\n",
    "data = animes_reviews[['title','text']].copy()\n",
    "data['text'] = data.apply(sliceString, axis=1)"
   ]
  },
  {
   "cell_type": "code",
   "execution_count": 11,
   "metadata": {},
   "outputs": [
    {
     "data": {
      "text/html": [
       "<div>\n",
       "<style scoped>\n",
       "    .dataframe tbody tr th:only-of-type {\n",
       "        vertical-align: middle;\n",
       "    }\n",
       "\n",
       "    .dataframe tbody tr th {\n",
       "        vertical-align: top;\n",
       "    }\n",
       "\n",
       "    .dataframe thead th {\n",
       "        text-align: right;\n",
       "    }\n",
       "</style>\n",
       "<table border=\"1\" class=\"dataframe\">\n",
       "  <thead>\n",
       "    <tr style=\"text-align: right;\">\n",
       "      <th></th>\n",
       "      <th>title</th>\n",
       "      <th>text</th>\n",
       "    </tr>\n",
       "  </thead>\n",
       "  <tbody>\n",
       "    <tr>\n",
       "      <th>0</th>\n",
       "      <td>Cowboy Bebop</td>\n",
       "      <td>Cowboy Bebop, Synopsis, In the year 2071, huma...</td>\n",
       "    </tr>\n",
       "    <tr>\n",
       "      <th>1</th>\n",
       "      <td>Cowboy Bebop: Tengoku no Tobira</td>\n",
       "      <td>Cowboy Bebop: Tengoku no Tobira, Synopsis, Ano...</td>\n",
       "    </tr>\n",
       "    <tr>\n",
       "      <th>2</th>\n",
       "      <td>Trigun</td>\n",
       "      <td>Trigun, Synopsis, Vash the Stampede is the man...</td>\n",
       "    </tr>\n",
       "    <tr>\n",
       "      <th>3</th>\n",
       "      <td>Witch Hunter Robin</td>\n",
       "      <td>Witch Hunter Robin, Synopsis, Witches are indi...</td>\n",
       "    </tr>\n",
       "    <tr>\n",
       "      <th>4</th>\n",
       "      <td>Eyeshield 21</td>\n",
       "      <td>Eyeshield 21, Synopsis, Sena is like any other...</td>\n",
       "    </tr>\n",
       "    <tr>\n",
       "      <th>...</th>\n",
       "      <td>...</td>\n",
       "      <td>...</td>\n",
       "    </tr>\n",
       "    <tr>\n",
       "      <th>1895</th>\n",
       "      <td>Val x Love</td>\n",
       "      <td>Val x Love, Synopsis, High-schooler Akutsu Tak...</td>\n",
       "    </tr>\n",
       "    <tr>\n",
       "      <th>1896</th>\n",
       "      <td>Shokugeki no Souma: Shin no Sara</td>\n",
       "      <td>Shokugeki no Souma: Shin no Sara, Synopsis, Fo...</td>\n",
       "    </tr>\n",
       "    <tr>\n",
       "      <th>1897</th>\n",
       "      <td>Bokutachi wa Benkyou ga Dekinai!</td>\n",
       "      <td>Bokutachi wa Benkyou ga Dekinai!, Synopsis, Un...</td>\n",
       "    </tr>\n",
       "    <tr>\n",
       "      <th>1898</th>\n",
       "      <td>Cannon Busters</td>\n",
       "      <td>Cannon Busters, Synopsis, Follow the adventure...</td>\n",
       "    </tr>\n",
       "    <tr>\n",
       "      <th>1899</th>\n",
       "      <td>Kengan Ashura 2nd Season</td>\n",
       "      <td>Kengan Ashura 2nd Season, Synopsis, Second hal...</td>\n",
       "    </tr>\n",
       "  </tbody>\n",
       "</table>\n",
       "<p>1893 rows × 2 columns</p>\n",
       "</div>"
      ],
      "text/plain": [
       "                                 title  \\\n",
       "0                         Cowboy Bebop   \n",
       "1      Cowboy Bebop: Tengoku no Tobira   \n",
       "2                               Trigun   \n",
       "3                   Witch Hunter Robin   \n",
       "4                         Eyeshield 21   \n",
       "...                                ...   \n",
       "1895                        Val x Love   \n",
       "1896  Shokugeki no Souma: Shin no Sara   \n",
       "1897  Bokutachi wa Benkyou ga Dekinai!   \n",
       "1898                    Cannon Busters   \n",
       "1899          Kengan Ashura 2nd Season   \n",
       "\n",
       "                                                   text  \n",
       "0     Cowboy Bebop, Synopsis, In the year 2071, huma...  \n",
       "1     Cowboy Bebop: Tengoku no Tobira, Synopsis, Ano...  \n",
       "2     Trigun, Synopsis, Vash the Stampede is the man...  \n",
       "3     Witch Hunter Robin, Synopsis, Witches are indi...  \n",
       "4     Eyeshield 21, Synopsis, Sena is like any other...  \n",
       "...                                                 ...  \n",
       "1895  Val x Love, Synopsis, High-schooler Akutsu Tak...  \n",
       "1896  Shokugeki no Souma: Shin no Sara, Synopsis, Fo...  \n",
       "1897  Bokutachi wa Benkyou ga Dekinai!, Synopsis, Un...  \n",
       "1898  Cannon Busters, Synopsis, Follow the adventure...  \n",
       "1899  Kengan Ashura 2nd Season, Synopsis, Second hal...  \n",
       "\n",
       "[1893 rows x 2 columns]"
      ]
     },
     "execution_count": 11,
     "metadata": {},
     "output_type": "execute_result"
    }
   ],
   "source": [
    "data"
   ]
  },
  {
   "cell_type": "code",
   "execution_count": 12,
   "metadata": {},
   "outputs": [],
   "source": [
    "### Make CSV Processed data\n",
    "\n",
    "data.to_csv('../dataset/processed.csv', sep='/', index=False)"
   ]
  }
 ],
 "metadata": {
  "kernelspec": {
   "display_name": "Python 3",
   "language": "python",
   "name": "python3"
  },
  "language_info": {
   "codemirror_mode": {
    "name": "ipython",
    "version": 3
   },
   "file_extension": ".py",
   "mimetype": "text/x-python",
   "name": "python",
   "nbconvert_exporter": "python",
   "pygments_lexer": "ipython3",
   "version": "3.8.10"
  },
  "orig_nbformat": 4,
  "vscode": {
   "interpreter": {
    "hash": "66a084010f0746c76ec2284bd94410552a129f4a248954eb4fb49e45d1aa9635"
   }
  }
 },
 "nbformat": 4,
 "nbformat_minor": 2
}
